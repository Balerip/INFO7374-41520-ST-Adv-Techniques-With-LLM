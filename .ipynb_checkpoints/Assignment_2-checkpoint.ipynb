{
 "cells": [
  {
   "cell_type": "markdown",
   "id": "3b0e5ebb",
   "metadata": {},
   "source": [
    "In data science or Machine learning, one of the most important tasks performed when working with large amounts of data is data cleaning. In this assignment, you'll see how to clean a dataset using pandas step by step. This dataset is a simulation of a customer list."
   ]
  },
  {
   "cell_type": "markdown",
   "id": "8f4df655",
   "metadata": {},
   "source": [
    "**Q1\tWhat is machine learning? Where and why you will use machine learning?**"
   ]
  },
  {
   "cell_type": "markdown",
   "id": "01f24539",
   "metadata": {},
   "source": [
    "Machine Learning is a field of study that gives computers the ability to learn without being explicitly programmed. In other words, we can say that ML is a field of AI consisting of learning algorithms that improves their performance (P) at executing some task (T) over time with experience (E). Experience*Task=Performance. Machine learning is a subset of artificial intelligence focused on building systems that can learn from historical data, identify patterns, and make logical decisions with little to no human intervention.\n",
    "\n",
    "\n",
    "Machine learning is used on OTT platforms like netflix for recommendations systems. Netflix considers users viewing habits and hobbies to provide Netflix recommendations. Users can take charge of their multimedia streaming and customize their interactions owing to the system's ability to compile and recommend content based on their preferences It can adapt and learn from each user's interactions, leading to a more personalized and engaging experience. Machine learning helps users discover content that aligns with their specific interests, making it easier to navigate this extensive catalog as Netflix has a vast and constantly growing library of movies and TV shows. Netflix wants users to discover new and diverse content. Machine learning algorithms can recommend not only popular content but also hidden gems that align with a user's unique preferences."
   ]
  },
  {
   "cell_type": "markdown",
   "id": "a9cc549a",
   "metadata": {},
   "source": [
    "**Q2 What is normalization/Scaling in Machine Learning and why do you perform? Explain with examples**"
   ]
  },
  {
   "cell_type": "markdown",
   "id": "5ab6dbcb",
   "metadata": {},
   "source": [
    "Normalization in machine learning is the process of translating data into the range [0, 1] (or any other range) or simply transforming data onto the unit sphere.The goal of normalization is to change the values of numeric columns in the dataset to a common scale, without distorting differences in the ranges of values\n",
    "Normalization dramatically improves model accuracy. Normalization gives equal weights/importance to each variable so that no single variable steers model performance in one direction just because they are bigger numbers.\n",
    "\n",
    "Examples of Normalization:\n",
    "\n",
    "We can consider age feature which can change between 0 to 90 and salary which can be changed from 0 to 500,000,000 $.The optimization algorithm used in our ML model will take too much time, if possible, to find appropriate weights for each feature. Moreover, if you don't scale your data, your ML algorithm may take too much care to features with large scales.\n",
    "\n",
    "Currency Conversion: When dealing with international finance, you might normalize different currencies into a single currency, such as the US dollar, for easier comparison and analysis.\n"
   ]
  },
  {
   "cell_type": "markdown",
   "id": "7c9a839a",
   "metadata": {},
   "source": [
    "**Q3 What is supervised and unsupervised learning? Give some examples** "
   ]
  },
  {
   "cell_type": "markdown",
   "id": "e4e10e43",
   "metadata": {},
   "source": [
    "Supervised Learning:\n",
    "\n",
    "Supervised learning algorithms or methods are the most commonly used ML algorithms.This method or learning algorithm take the data sample i.e. the training data and its associated output i.e. labels or responses with each data samples during the training process.\n",
    "The main objective of supervised learning algorithms is to learn an association between input data samples and corresponding outputs after performing multiple training data instances.\n",
    "\n",
    "Supervised learning basically tries to model the relationship between the inputs and their corresponding outputs from the training data so that we would be able to predict output responses for new data inputs based on the\n",
    "knowledge it gained earlier with regard to relationships and mappings between the inputs and their target outputs. \n",
    "For example, we have\n",
    "x: Input variables and\n",
    "Y: Output variable\n",
    "Now, apply an algorithm to learn the mapping function from the input to output as follows:\n",
    "Y=f(x)\n",
    "Now, the main objective would be to approximate the mapping function so well that even\n",
    "when we have new input data (x), we can easily predict the output variable (Y) for that new\n",
    "input data.\n",
    "\n",
    "Examples of Supervised Learning:\n",
    "\n",
    "Email Filtering\n",
    "Supervised learning can be used to build models that classify emails as either \"spam\" or \"not spam\" based on the content and features of the emails.\n",
    "\n",
    "Voice Recognition\n",
    "Supervised learning is utilized in voice recognition to help virtual assistants and other applications recognize and understand spoken commands. A labeled dataset of spoken words and phrases with corresponding text transcripts is used to train a machine learning algorithm in such scenarios.\n",
    "\n",
    "Unsupervised Learning:\n",
    "\n",
    "As the name suggests, it is opposite to supervised ML methods or algorithms which means in unsupervised machine learning algorithms we do not have any supervisor to provide any sort of guidance. Unsupervised learning algorithms are handy in the scenario in which we do not have the liberty, like in supervised learning algorithms, of having pre-labeled training data and we want to extract useful pattern from input data.\n",
    "\n",
    "For example, it can be understood as follows: \n",
    "Suppose we have: x: Input variables, then there would be no corresponding output variable and the algorithms need to discover the interesting pattern in data for learning\n",
    "\n",
    "Examples of Unsupervised Learning:\n",
    "\n",
    "Medical imaging – for distinguishing between different kinds of tissues;\n",
    "\n",
    "Market research – for differentiating groups of customers based on some attributes\n",
    "\n",
    "\n"
   ]
  },
  {
   "cell_type": "markdown",
   "id": "500a6a32",
   "metadata": {},
   "source": [
    "**Q4 What is Data Cleaning and why do we need it?**  "
   ]
  },
  {
   "cell_type": "markdown",
   "id": "9ec08fb2",
   "metadata": {},
   "source": [
    "Data cleaning refers to identifying and correcting errors in the dataset that may negatively impact a predictive model. Data cleaning is used to refer to all kinds of tasks and activities to detect and repair errors in the data\n",
    "Data cleaning is the process of fixing or removing incorrect, corrupted, incorrectly formatted, duplicate, or incomplete data within a dataset. When combining multiple data sources, there are many opportunities for data to be duplicated or mislabeled. If data is incorrect, outcomes and algorithms are unreliable, even though they may look correct. There is no one absolute way to prescribe the exact steps in the data cleaning process because the processes will vary from dataset to dataset. But it is crucial to establish a template for your data cleaning process so you know you are doing it the right way every time.\n",
    "There are many reasons data may have incorrect values, such as being mistyped, corrupted, duplicated, and so on. \n",
    "\n",
    "Having clean data will ultimately increase overall productivity and allow for the highest quality information in your decision-making. Benefits include:\n",
    "\n",
    "Removal of errors when multiple sources of data are at play.\n",
    "Fewer errors make for happier clients and less-frustrated employees.\n",
    "\n",
    "Duplicates usually show up when data is blended from different sources (e.g., spreadsheets, websites, and databases) or when a customer has multiple points of contact with a company or has submitted redundant forms. This repeated data uses up server space and processing resources, creating larger files and less efficient analysis.\n",
    "in this case data cleaning can help with removing the duplicates and only keeping the unique values.\n",
    "\n",
    "Manage Incomplete Data: Data might be missing values for a few reasons (e.g., customers not providing certain information), and addressing it is vital to analysis as it prevents bias and miscalculations. After isolating and examining the incomplete values, which can show up as “0,” “NA,” “none,” “null,” or “not applicable,” determine if those are plausible values or due to missing information. While the easiest solution might be to drop the incomplete data, be aware of any bias that might result in that action. Alternatives include replacing null values with substitutes based on statistical or conditional modeling or flagging and commenting on the missing data.\n",
    "\n",
    "Remove Irrelevant Observations: Data that’s not relevant to the problem being solved can slow down processing time. Removing these irrelevant observations doesn’t delete them from the source but excludes them from the current analysis. \n",
    "\n",
    "Fix Structural Errors:It’s important to correct errors and inconsistencies including typography, capitalization, abbreviation, and formatting\n"
   ]
  },
  {
   "cell_type": "code",
   "execution_count": 1,
   "id": "4635cdb6",
   "metadata": {},
   "outputs": [],
   "source": [
    "import pandas as pd"
   ]
  },
  {
   "cell_type": "code",
   "execution_count": 2,
   "id": "5c667c22",
   "metadata": {},
   "outputs": [
    {
     "name": "stdout",
     "output_type": "stream",
     "text": [
      "    user_id       Name Last_name  age           Phone                Email  \\\n",
      "0       234        Tom     Smith   23    555/123/4567      smith@email.com   \n",
      "1       235     Alex--   johnson   32    333-234-5678  johnson@hotmail.com   \n",
      "2       236   ..Thomas     brown   45    444_456_7890      brown@email.com   \n",
      "3       237       John     Davis   22    111-222-3333       davis@mail.com   \n",
      "4       237       John     Davis   22    111-222-3333       davis@mail.com   \n",
      "5       238      Paul/      None   50            None       John@gmail.com   \n",
      "6       239      Emma9    wilson   34    333/987/4567      wilson@mail.com   \n",
      "7       240        Joy  Thompson   47     222/345_987   thompson@email.com   \n",
      "8       241  Samantha_       Lee   28  (777) 987-6543        lee@email.com   \n",
      "9       242      Emily   Johnson   19    777-888-9999    emily@hotmail.com   \n",
      "10      242      Emily   Johnson   19    777-888-9999    emily@hotmail.com   \n",
      "\n",
      "   Not_Useful_column  \n",
      "0               None  \n",
      "1               None  \n",
      "2               None  \n",
      "3               None  \n",
      "4               None  \n",
      "5               None  \n",
      "6               None  \n",
      "7               None  \n",
      "8               None  \n",
      "9               None  \n",
      "10              None  \n"
     ]
    }
   ],
   "source": [
    "df_users = pd.DataFrame({\n",
    "    \"user_id\": [234, 235, 236, 237, 237, 238, 239, 240, 241, 242, 242],\n",
    "    \"Name\": [\"Tom\", \"Alex--\", \"..Thomas\", \"John\", \"John\", \"Paul/\", \"Emma9\", \"Joy\", \"Samantha_\", \"Emily\", \"Emily\"],\n",
    "    \"Last_name\": [\"Smith\", \"johnson\", \"brown\", \"Davis\", \"Davis\", \"None\", \"wilson\", \"Thompson\", \"Lee\", \"Johnson\", \"Johnson\"],\n",
    "    \"age\": [23, 32, 45, 22, 22, 50, 34, 47, 28, 19, 19],\n",
    "    \"Phone\": [\"555/123/4567\", \"333-234-5678\", \"444_456_7890\", \"111-222-3333\", \"111-222-3333\", None, \"333/987/4567\", \"222/345_987\", \"(777) 987-6543\", \"777-888-9999\", \"777-888-9999\"],\n",
    "    \"Email\": [\"smith@email.com\", \"johnson@hotmail.com\", \"brown@email.com\", \"davis@mail.com\", \"davis@mail.com\", \"John@gmail.com\", \"wilson@mail.com\", \"thompson@email.com\", \"lee@email.com\", \"emily@hotmail.com\", \"emily@hotmail.com\"],\n",
    "    \"Not_Useful_column\": [None, None, None, None, None, None, None, None, None, None, None]\n",
    "})\n",
    "\n",
    "print(df_users)"
   ]
  },
  {
   "cell_type": "markdown",
   "id": "06572341",
   "metadata": {},
   "source": [
    "Here we use the pandas `DataFrame()` function to create a mock dataset, this dataset contains 7 columns and 11 rows, the columns are, a `user_id` which is the user's unique id, a `Name` column, a `Last_name` column, the user's `age`, the user's `Phone` number, the user's `Email`, and finally a non-useful column called `Not_Useful_column` which we will use as an example of how to delete an unnecessary column from a dataset.\n",
    "\n",
    "As you can see in the example dataset, the data has some inconsistencies in the columns, a few unnecessary symbols in the `Name` column, some values in the `Last_name` column are not capitalized, and each of the values in the `Phone` column have different syntax which makes it difficult to work with them.\n"
   ]
  },
  {
   "cell_type": "markdown",
   "id": "fc4415ad",
   "metadata": {},
   "source": [
    "Your final output should look like "
   ]
  },
  {
   "cell_type": "code",
   "execution_count": 11,
   "id": "8a188df3",
   "metadata": {},
   "outputs": [
    {
     "data": {
      "text/html": [
       "<div>\n",
       "<style scoped>\n",
       "    .dataframe tbody tr th:only-of-type {\n",
       "        vertical-align: middle;\n",
       "    }\n",
       "\n",
       "    .dataframe tbody tr th {\n",
       "        vertical-align: top;\n",
       "    }\n",
       "\n",
       "    .dataframe thead th {\n",
       "        text-align: right;\n",
       "    }\n",
       "</style>\n",
       "<table border=\"1\" class=\"dataframe\">\n",
       "  <thead>\n",
       "    <tr style=\"text-align: right;\">\n",
       "      <th></th>\n",
       "      <th>user_id</th>\n",
       "      <th>Name</th>\n",
       "      <th>Last_name</th>\n",
       "      <th>age</th>\n",
       "      <th>Phone</th>\n",
       "      <th>Email</th>\n",
       "    </tr>\n",
       "  </thead>\n",
       "  <tbody>\n",
       "    <tr>\n",
       "      <th>0</th>\n",
       "      <td>234</td>\n",
       "      <td>Tom</td>\n",
       "      <td>Smith</td>\n",
       "      <td>23</td>\n",
       "      <td>555-123-4567</td>\n",
       "      <td>smith@email.com</td>\n",
       "    </tr>\n",
       "    <tr>\n",
       "      <th>1</th>\n",
       "      <td>235</td>\n",
       "      <td>Alex</td>\n",
       "      <td>Johnson</td>\n",
       "      <td>32</td>\n",
       "      <td>333-234-5678</td>\n",
       "      <td>johnson@hotmail.com</td>\n",
       "    </tr>\n",
       "    <tr>\n",
       "      <th>2</th>\n",
       "      <td>236</td>\n",
       "      <td>Thomas</td>\n",
       "      <td>Brown</td>\n",
       "      <td>45</td>\n",
       "      <td>444-456-7890</td>\n",
       "      <td>brown@email.com</td>\n",
       "    </tr>\n",
       "    <tr>\n",
       "      <th>3</th>\n",
       "      <td>237</td>\n",
       "      <td>John</td>\n",
       "      <td>Davis</td>\n",
       "      <td>22</td>\n",
       "      <td>111-222-3333</td>\n",
       "      <td>davis@mail.com</td>\n",
       "    </tr>\n",
       "    <tr>\n",
       "      <th>4</th>\n",
       "      <td>239</td>\n",
       "      <td>Emma</td>\n",
       "      <td>Wilson</td>\n",
       "      <td>34</td>\n",
       "      <td>333-987-4567</td>\n",
       "      <td>wilson@mail.com</td>\n",
       "    </tr>\n",
       "    <tr>\n",
       "      <th>5</th>\n",
       "      <td>241</td>\n",
       "      <td>Samantha</td>\n",
       "      <td>Lee</td>\n",
       "      <td>28</td>\n",
       "      <td>777-987-6543</td>\n",
       "      <td>lee@email.com</td>\n",
       "    </tr>\n",
       "    <tr>\n",
       "      <th>6</th>\n",
       "      <td>242</td>\n",
       "      <td>Emily</td>\n",
       "      <td>Johnson</td>\n",
       "      <td>19</td>\n",
       "      <td>777-888-9999</td>\n",
       "      <td>emily@hotmail.com</td>\n",
       "    </tr>\n",
       "  </tbody>\n",
       "</table>\n",
       "</div>"
      ],
      "text/plain": [
       "   user_id      Name Last_name  age         Phone                Email\n",
       "0      234       Tom     Smith   23  555-123-4567      smith@email.com\n",
       "1      235      Alex   Johnson   32  333-234-5678  johnson@hotmail.com\n",
       "2      236    Thomas     Brown   45  444-456-7890      brown@email.com\n",
       "3      237      John     Davis   22  111-222-3333       davis@mail.com\n",
       "4      239      Emma    Wilson   34  333-987-4567      wilson@mail.com\n",
       "5      241  Samantha       Lee   28  777-987-6543        lee@email.com\n",
       "6      242     Emily   Johnson   19  777-888-9999    emily@hotmail.com"
      ]
     },
     "execution_count": 11,
     "metadata": {},
     "output_type": "execute_result"
    }
   ],
   "source": [
    "df_users"
   ]
  },
  {
   "cell_type": "code",
   "execution_count": 4,
   "id": "32f65d9b",
   "metadata": {},
   "outputs": [],
   "source": [
    "#drop columns with all null values\n",
    "df_users.dropna(axis=1,how='all',inplace=True)"
   ]
  },
  {
   "cell_type": "code",
   "execution_count": 5,
   "id": "4ddbded7",
   "metadata": {},
   "outputs": [],
   "source": [
    "#drop row with some null values\n",
    "df_users.dropna(axis=0,how='any',inplace=True)"
   ]
  },
  {
   "cell_type": "code",
   "execution_count": 6,
   "id": "42d43d4e",
   "metadata": {},
   "outputs": [],
   "source": [
    "#drop all the duplicates and retain unique values\n",
    "\n",
    "df_users.drop_duplicates(inplace=True)"
   ]
  },
  {
   "cell_type": "code",
   "execution_count": 7,
   "id": "70a3bb46",
   "metadata": {},
   "outputs": [
    {
     "name": "stderr",
     "output_type": "stream",
     "text": [
      "/var/folders/ct/b2rs611d1g96lldn5x1gj1wm0000gp/T/ipykernel_24780/1554314905.py:2: FutureWarning: The default value of regex will change from True to False in a future version.\n",
      "  df_users['Name']=df_users['Name'].str.replace('[^a-zA-Z]','').str.strip()\n"
     ]
    }
   ],
   "source": [
    "#Get the names with only alphabets ignoring all the special characters\n",
    "df_users['Name']=df_users['Name'].str.replace('[^a-zA-Z]','').str.strip()"
   ]
  },
  {
   "cell_type": "code",
   "execution_count": 8,
   "id": "c3aa8512",
   "metadata": {},
   "outputs": [],
   "source": [
    "#capitalise the first letter of last name\n",
    "df_users['Last_name']=df_users['Last_name'].str.capitalize()"
   ]
  },
  {
   "cell_type": "code",
   "execution_count": 9,
   "id": "e9379cc6",
   "metadata": {},
   "outputs": [],
   "source": [
    "#correct the phone format \n",
    "#first get the phone numbers with only digits\n",
    "df_users['Phone'] = df_users['Phone'].str.replace(r'[^\\d]', '',regex=True)\n",
    "#get the phone numbers in 3-3-4 format\n",
    "df_users['Phone'] = df_users['Phone'].str.replace(r'(\\d{3})(\\d{3})(\\d{4})', r'\\1-\\2-\\3', regex=True)\n",
    "#then check which values gives the correct format set it to true rest to false\n",
    "phone_format_corrected = df_users['Phone'].str.contains(r'\\d{3}-\\d{3}-\\d{4}',na=False)\n",
    "#get the phone numbers with True values only\n",
    "df_users=df_users[phone_format_corrected]"
   ]
  },
  {
   "cell_type": "code",
   "execution_count": 10,
   "id": "d8562c81",
   "metadata": {},
   "outputs": [
    {
     "name": "stdout",
     "output_type": "stream",
     "text": [
      "   user_id      Name Last_name  age         Phone                Email\n",
      "0      234       Tom     Smith   23  555-123-4567      smith@email.com\n",
      "1      235      Alex   Johnson   32  333-234-5678  johnson@hotmail.com\n",
      "2      236    Thomas     Brown   45  444-456-7890      brown@email.com\n",
      "3      237      John     Davis   22  111-222-3333       davis@mail.com\n",
      "4      239      Emma    Wilson   34  333-987-4567      wilson@mail.com\n",
      "5      241  Samantha       Lee   28  777-987-6543        lee@email.com\n",
      "6      242     Emily   Johnson   19  777-888-9999    emily@hotmail.com\n"
     ]
    }
   ],
   "source": [
    "#reset the index to get in correct order\n",
    "df_users.reset_index(drop=True, inplace=True)\n",
    "#print the user table\n",
    "print(df_users)"
   ]
  },
  {
   "cell_type": "code",
   "execution_count": null,
   "id": "9234c9b4",
   "metadata": {},
   "outputs": [],
   "source": []
  }
 ],
 "metadata": {
  "kernelspec": {
   "display_name": "Python 3 (ipykernel)",
   "language": "python",
   "name": "python3"
  },
  "language_info": {
   "codemirror_mode": {
    "name": "ipython",
    "version": 3
   },
   "file_extension": ".py",
   "mimetype": "text/x-python",
   "name": "python",
   "nbconvert_exporter": "python",
   "pygments_lexer": "ipython3",
   "version": "3.9.13"
  }
 },
 "nbformat": 4,
 "nbformat_minor": 5
}
